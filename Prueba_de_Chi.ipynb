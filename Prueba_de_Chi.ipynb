{
  "nbformat": 4,
  "nbformat_minor": 0,
  "metadata": {
    "colab": {
      "provenance": [],
      "authorship_tag": "ABX9TyP874fzZg4D0jOjYzAy5U4e"
    },
    "kernelspec": {
      "name": "python3",
      "display_name": "Python 3"
    },
    "language_info": {
      "name": "python"
    }
  },
  "cells": [
    {
      "cell_type": "markdown",
      "source": [
        "#PRUEBA DE $\\chi^2$"
      ],
      "metadata": {
        "id": "2lZsNAimEOcZ"
      }
    },
    {
      "cell_type": "code",
      "execution_count": 71,
      "metadata": {
        "colab": {
          "base_uri": "https://localhost:8080/"
        },
        "id": "KftB_KCTgr3Y",
        "outputId": "53dea29d-f186-4331-dfe3-3b71543a8019"
      },
      "outputs": [
        {
          "output_type": "stream",
          "name": "stderr",
          "text": [
            "<ipython-input-71-96f8edb842b6>:40: SettingWithCopyWarning: \n",
            "A value is trying to be set on a copy of a slice from a DataFrame\n",
            "\n",
            "See the caveats in the documentation: https://pandas.pydata.org/pandas-docs/stable/user_guide/indexing.html#returning-a-view-versus-a-copy\n",
            "  tabla[\"O\"][i] = count\n"
          ]
        }
      ],
      "source": [
        "import numpy as np\n",
        "import pandas as pd\n",
        "\n",
        "datos = pd.read_csv('datos.csv', header = None, names = [\"Valores\"])\n",
        "\n",
        "#Crear categorias\n",
        "minimo = datos.min()\n",
        "maximo = datos.max()\n",
        "No_datos = datos.count()\n",
        "rango = maximo - minimo\n",
        "No_categorias = int(np.sqrt(No_datos))\n",
        "amplitud = rango/No_categorias\n",
        "\n",
        "\n",
        "lim_inf = []\n",
        "lim_sup = []\n",
        "for i in range(No_categorias):\n",
        "  lim_inf.append(float(minimo + i*amplitud))\n",
        "  lim_sup.append(float(minimo + (i+1)*amplitud))\n",
        "\n",
        "\n",
        "# Create a dictionary\n",
        "data = {\n",
        "    'Límite Inferior': lim_inf,\n",
        "    'Límite Superior': lim_sup,\n",
        "    'O': 1,\n",
        "    'E': int(No_datos/No_categorias),\n",
        "\n",
        "}\n",
        "\n",
        "tabla = pd.DataFrame(data)\n",
        "\n",
        "valores = pd.Series(datos[\"Valores\"])\n",
        "\n",
        "\n",
        "for i in range(len(tabla)):\n",
        "  inf = tabla[\"Límite Inferior\"][i]\n",
        "  sup = tabla[\"Límite Superior\"][i]\n",
        "  count = datos[(datos['Valores'] >= inf) & (datos['Valores'] < sup)].shape[0]\n",
        "  tabla[\"O\"][i] = count"
      ]
    },
    {
      "cell_type": "code",
      "source": [
        "from scipy.stats import chi2\n",
        "\n",
        "alpha = 0.05\n",
        "gl = len(tabla) -1\n",
        "\n",
        "# Calcular el valor crítico\n",
        "valor_critico = chi2.ppf(1 - alpha, gl)\n",
        "\n",
        "estadistico = 0\n",
        "for i in range(len(tabla)):\n",
        "  estadistico = (tabla[\"O\"][i] - tabla[\"E\"][i])**2/int(No_datos/No_categorias) + estadistico\n",
        "\n",
        "print(\"Primeros 5 datos\")\n",
        "print(datos.head())\n",
        "print(\"*---------------------------------*\")\n",
        "print(tabla.head())\n",
        "print(\"*---------------------------------*\")\n",
        "print(\"Estadístico:\", estadistico)\n",
        "print( \"Valor Critico:\", valor_critico)\n",
        "\n",
        "\n",
        "\n",
        "if estadistico > valor_critico:\n",
        "    print(\"Se rechaza la hipótesis nula (H0)\")\n",
        "else:\n",
        "    print(\"No se rechaza la hipótesis nula (H0)\")\n"
      ],
      "metadata": {
        "colab": {
          "base_uri": "https://localhost:8080/"
        },
        "id": "Y4OvAEWcqii2",
        "outputId": "777e7528-4f6e-48f2-a76a-8827af4a5566"
      },
      "execution_count": 83,
      "outputs": [
        {
          "output_type": "stream",
          "name": "stdout",
          "text": [
            "Primeros 5 datos\n",
            "   Valores\n",
            "0   0.8797\n",
            "1   0.9848\n",
            "2   0.4557\n",
            "3   0.9170\n",
            "4   0.8376\n",
            "*---------------------------------*\n",
            "   Límite Inferior  Límite Superior  O  E\n",
            "0         0.031800         0.170057  6  7\n",
            "1         0.170057         0.308314  5  7\n",
            "2         0.308314         0.446571  8  7\n",
            "3         0.446571         0.584829  9  7\n",
            "4         0.584829         0.723086  7  7\n",
            "*---------------------------------*\n",
            "Estadístico: 1.4285714285714284\n",
            "Valor Critico: 12.591587243743977\n",
            "No se rechaza la hipótesis nula (H0)\n"
          ]
        }
      ]
    }
  ]
}