{
  "nbformat": 4,
  "nbformat_minor": 0,
  "metadata": {
    "colab": {
      "provenance": [],
      "authorship_tag": "ABX9TyN/MR4LDVIpy53aaVfLbccX"
    },
    "kernelspec": {
      "name": "python3",
      "display_name": "Python 3"
    },
    "language_info": {
      "name": "python"
    }
  },
  "cells": [
    {
      "cell_type": "markdown",
      "source": [
        "# Método del Cuadrado Medio"
      ],
      "metadata": {
        "id": "1fRz9aFBIxn0"
      }
    },
    {
      "cell_type": "code",
      "source": [
        "def cuadrado_medio(semilla):\n",
        "  s_2 = semilla**2\n",
        "  s_aux = str(s_2)\n",
        "  if len(s_aux) == 7:\n",
        "      s_aux = '0'+s_aux\n",
        "  lista = []\n",
        "\n",
        "  for i in s_aux:\n",
        "    lista.append(i)\n",
        "\n",
        "  lista_new = lista[2:6]\n",
        "\n",
        "  numero = int(\"\".join(map(str,lista_new)))\n",
        "\n",
        "  return numero"
      ],
      "metadata": {
        "id": "6tKMDJbRI3AN"
      },
      "execution_count": 19,
      "outputs": []
    },
    {
      "cell_type": "code",
      "source": [
        "import tabulate\n",
        "\n",
        "semilla = 2121\n",
        "datos = []\n",
        "for i in range(10):\n",
        "  semilla_generada = cuadrado_medio(semilla)\n",
        "\n",
        "  datos.append([\n",
        "      i,\n",
        "      semilla,\n",
        "      semilla_generada\n",
        "  ])\n",
        "  semilla = semilla_generada\n",
        "\n",
        "# Definimos los encabezados de las columnas\n",
        "\n",
        "encabezados = [\"Iteración\", \"Semilla\", \"Nueva Semilla\"]\n",
        "\n",
        "print(tabulate.tabulate(datos, headers=encabezados, tablefmt=\"psql\",numalign=\"center\"))\n"
      ],
      "metadata": {
        "colab": {
          "base_uri": "https://localhost:8080/"
        },
        "id": "cvga-GN9OjHW",
        "outputId": "314a9511-beef-4167-9506-f707ec76d787"
      },
      "execution_count": 26,
      "outputs": [
        {
          "output_type": "stream",
          "name": "stdout",
          "text": [
            "+-------------+-----------+-----------------+\n",
            "|  Iteración  |  Semilla  |  Nueva Semilla  |\n",
            "|-------------+-----------+-----------------|\n",
            "|      0      |   2121    |      4986       |\n",
            "|      1      |   4986    |      8601       |\n",
            "|      2      |   8601    |      9772       |\n",
            "|      3      |   9772    |      4919       |\n",
            "|      4      |   4919    |      1965       |\n",
            "|      5      |   1965    |      8612       |\n",
            "|      6      |   8612    |      1665       |\n",
            "|      7      |   1665    |      7722       |\n",
            "|      8      |   7722    |      6292       |\n",
            "|      9      |   6292    |      5892       |\n",
            "+-------------+-----------+-----------------+\n"
          ]
        }
      ]
    }
  ]
}