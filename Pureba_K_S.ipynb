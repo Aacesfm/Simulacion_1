{
  "nbformat": 4,
  "nbformat_minor": 0,
  "metadata": {
    "colab": {
      "provenance": [],
      "authorship_tag": "ABX9TyMr5ntjLdvzqTJ+EuGHobW4"
    },
    "kernelspec": {
      "name": "python3",
      "display_name": "Python 3"
    },
    "language_info": {
      "name": "python"
    }
  },
  "cells": [
    {
      "cell_type": "markdown",
      "source": [
        "#Prueba K-S\n",
        "\n",
        "4. Determine si la siguiente lista de 100 números de 2 dígitos tiene una distribución uniforme con un nivel de aceptación de 90 %."
      ],
      "metadata": {
        "id": "EEUFQXoMR2rF"
      }
    },
    {
      "cell_type": "code",
      "execution_count": 39,
      "metadata": {
        "colab": {
          "base_uri": "https://localhost:8080/"
        },
        "id": "-P7zcVG_RyZP",
        "outputId": "ea216ebe-b0e9-4561-bfd5-090f48756a6b"
      },
      "outputs": [
        {
          "output_type": "stream",
          "name": "stdout",
          "text": [
            "   Límite Inferior  Límite Superior   O   E\n",
            "0            0.010            0.107   6  10\n",
            "1            0.107            0.204  15  10\n",
            "2            0.204            0.301  13  10\n",
            "3            0.301            0.398   5  10\n",
            "4            0.398            0.495  11  10\n",
            "5            0.495            0.592  10  10\n",
            "6            0.592            0.689   9  10\n",
            "7            0.689            0.786  10  10\n",
            "8            0.786            0.883  11  10\n",
            "9            0.883            0.980  10  10\n"
          ]
        },
        {
          "output_type": "stream",
          "name": "stderr",
          "text": [
            "<ipython-input-39-8adcd347d8f7>:40: SettingWithCopyWarning: \n",
            "A value is trying to be set on a copy of a slice from a DataFrame\n",
            "\n",
            "See the caveats in the documentation: https://pandas.pydata.org/pandas-docs/stable/user_guide/indexing.html#returning-a-view-versus-a-copy\n",
            "  tabla[\"O\"][i] = count\n"
          ]
        }
      ],
      "source": [
        "import numpy as np\n",
        "import pandas as pd\n",
        "\n",
        "datos = pd.read_csv('datos_ejercicio4.csv', delimiter=';')\n",
        "\n",
        "#Crear categorias\n",
        "minimo = datos.min()\n",
        "maximo = datos.max()\n",
        "No_datos = datos.count()\n",
        "rango = maximo - minimo\n",
        "No_categorias = int(np.sqrt(No_datos))\n",
        "amplitud = rango/No_categorias\n",
        "\n",
        "\n",
        "lim_inf = []\n",
        "lim_sup = []\n",
        "for i in range(No_categorias):\n",
        "  lim_inf.append(float(minimo + i*amplitud))\n",
        "  lim_sup.append(float(minimo + (i+1)*amplitud))\n",
        "\n",
        "\n",
        "# Create a dictionary\n",
        "data = {\n",
        "    'Límite Inferior': lim_inf,\n",
        "    'Límite Superior': lim_sup,\n",
        "    'O': 1,\n",
        "    'E': int(No_datos/No_categorias),\n",
        "\n",
        "}\n",
        "\n",
        "tabla = pd.DataFrame(data)\n",
        "\n",
        "valores = pd.Series(datos[\"valores\"])\n",
        "\n",
        "\n",
        "for i in range(len(tabla)):\n",
        "  inf = tabla[\"Límite Inferior\"][i]\n",
        "  sup = tabla[\"Límite Superior\"][i]\n",
        "  count = datos[(datos['valores'] >= inf) & (datos['valores'] <= sup)].shape[0] #Shape cuenta las filas que cumplen con el criterio\n",
        "  tabla[\"O\"][i] = count\n",
        "\n",
        "print(tabla)"
      ]
    },
    {
      "cell_type": "code",
      "source": [
        "#Agregar la frecuencia acumulada y frecuencia acumulada relativa\n",
        "tabla[\"F_Acumulada\"] = 0\n",
        "tabla[\"FA_Relativa\"] = 0\n",
        "\n",
        "\n",
        "for i in range(len(tabla)):\n",
        "  if i == 0:\n",
        "    tabla[\"F_Acumulada\"][i] = tabla[\"O\"][i]\n",
        "  else:\n",
        "    tabla[\"F_Acumulada\"][i] =  tabla[\"O\"][i] + tabla[\"F_Acumulada\"][i-1]\n",
        "\n",
        "  tabla[\"FA_Relativa\"][i] = tabla[\"F_Acumulada\"][i]/No_datos\n",
        "\n",
        "\n",
        "tabla[\"|S-F|\"] = 0\n",
        "for i in range(len(tabla)):\n",
        "  tabla[\"|S-F|\"][i] = np.abs(tabla[\"FA_Relativa\"][i]-tabla['E'][i]/No_datos)\n",
        "\n",
        "print(tabla)\n",
        "\n",
        "D = np.max(tabla[\"|S-F|\"])\n",
        "\n",
        "print(D)"
      ],
      "metadata": {
        "colab": {
          "base_uri": "https://localhost:8080/"
        },
        "id": "MjH7W7q-Z8Um",
        "outputId": "6a2888a0-850d-4916-9d7a-893a03b47a4e"
      },
      "execution_count": 40,
      "outputs": [
        {
          "output_type": "stream",
          "name": "stdout",
          "text": [
            "   Límite Inferior  Límite Superior   O   E  F_Acumulada  FA_Relativa  |S-F|\n",
            "0            0.010            0.107   6  10            6         0.06   0.04\n",
            "1            0.107            0.204  15  10           21         0.21   0.11\n",
            "2            0.204            0.301  13  10           34         0.34   0.24\n",
            "3            0.301            0.398   5  10           39         0.39   0.29\n",
            "4            0.398            0.495  11  10           50         0.50   0.40\n",
            "5            0.495            0.592  10  10           60         0.60   0.50\n",
            "6            0.592            0.689   9  10           69         0.69   0.59\n",
            "7            0.689            0.786  10  10           79         0.79   0.69\n",
            "8            0.786            0.883  11  10           90         0.90   0.80\n",
            "9            0.883            0.980  10  10          100         1.00   0.90\n",
            "0.9\n"
          ]
        },
        {
          "output_type": "stream",
          "name": "stderr",
          "text": [
            "<ipython-input-40-a147c3949e01>:8: SettingWithCopyWarning: \n",
            "A value is trying to be set on a copy of a slice from a DataFrame\n",
            "\n",
            "See the caveats in the documentation: https://pandas.pydata.org/pandas-docs/stable/user_guide/indexing.html#returning-a-view-versus-a-copy\n",
            "  tabla[\"F_Acumulada\"][i] = tabla[\"O\"][i]\n",
            "<ipython-input-40-a147c3949e01>:12: SettingWithCopyWarning: \n",
            "A value is trying to be set on a copy of a slice from a DataFrame\n",
            "\n",
            "See the caveats in the documentation: https://pandas.pydata.org/pandas-docs/stable/user_guide/indexing.html#returning-a-view-versus-a-copy\n",
            "  tabla[\"FA_Relativa\"][i] = tabla[\"F_Acumulada\"][i]/No_datos\n",
            "<ipython-input-40-a147c3949e01>:10: SettingWithCopyWarning: \n",
            "A value is trying to be set on a copy of a slice from a DataFrame\n",
            "\n",
            "See the caveats in the documentation: https://pandas.pydata.org/pandas-docs/stable/user_guide/indexing.html#returning-a-view-versus-a-copy\n",
            "  tabla[\"F_Acumulada\"][i] =  tabla[\"O\"][i] + tabla[\"F_Acumulada\"][i-1]\n",
            "<ipython-input-40-a147c3949e01>:17: SettingWithCopyWarning: \n",
            "A value is trying to be set on a copy of a slice from a DataFrame\n",
            "\n",
            "See the caveats in the documentation: https://pandas.pydata.org/pandas-docs/stable/user_guide/indexing.html#returning-a-view-versus-a-copy\n",
            "  tabla[\"|S-F|\"][i] = np.abs(tabla[\"FA_Relativa\"][i]-tabla['E'][i]/No_datos)\n"
          ]
        }
      ]
    },
    {
      "cell_type": "code",
      "source": [
        "from scipy.stats import kstwobign\n",
        "\n",
        "alpha = 0.10\n",
        "\n",
        "# Calcular el valor crítico\n",
        "valor_c= kstwobign.ppf(1 - alpha) / (No_datos ** 0.5)\n",
        "valor_critico = 0.122\n",
        "if D > valor_critico:\n",
        "  print(\"Se rechaza H0. H0: Los datos tienen una distribución uniforme\")\n",
        "else:\n",
        "  print(\"No se rechaza H0. H0: Los datos tienen una distribuciòn uniforme\")\n"
      ],
      "metadata": {
        "colab": {
          "base_uri": "https://localhost:8080/"
        },
        "id": "SVAa_9mjds6k",
        "outputId": "4a05d2d4-4b85-40c2-abdf-0979b16cf5d4"
      },
      "execution_count": 44,
      "outputs": [
        {
          "output_type": "stream",
          "name": "stdout",
          "text": [
            "Se rechaza H0. H0: Los datos tienen una distribución uniforme\n"
          ]
        }
      ]
    }
  ]
}