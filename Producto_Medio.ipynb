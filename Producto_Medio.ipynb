{
  "nbformat": 4,
  "nbformat_minor": 0,
  "metadata": {
    "colab": {
      "provenance": []
    },
    "kernelspec": {
      "name": "python3",
      "display_name": "Python 3"
    },
    "language_info": {
      "name": "python"
    }
  },
  "cells": [
    {
      "cell_type": "markdown",
      "source": [
        "# Método Producto Medio"
      ],
      "metadata": {
        "id": "AzpUXFy5MM_D"
      }
    },
    {
      "cell_type": "code",
      "execution_count": 1,
      "metadata": {
        "id": "bcUwLSfOLGQ4"
      },
      "outputs": [],
      "source": [
        "def producto_medio(semilla1, semilla2):\n",
        "  s_2 = semilla1*semilla2\n",
        "  s_aux = str(s_2)\n",
        "  if len(s_aux) == 7:\n",
        "      s_aux = '0'+s_aux\n",
        "  lista = []\n",
        "\n",
        "  for i in s_aux:\n",
        "    lista.append(i)\n",
        "\n",
        "  lista_new = lista[2:6]\n",
        "\n",
        "  numero = int(\"\".join(map(str,lista_new)))\n",
        "  print(numero)\n",
        "\n",
        "  return numero"
      ]
    },
    {
      "cell_type": "code",
      "source": [
        "sem_1 = 2121\n",
        "sem_2 = 2392\n",
        "\n",
        "print(\"Semillas:\", sem_1,\",\", sem_2)\n",
        "print(\"-------------------------\")\n",
        "for i in range(10):\n",
        "  print(\"Número aleatorio\",i+1,\":\")\n",
        "  sem_1 = producto_medio(sem_1, sem_2)\n",
        "  print(\"---\")"
      ],
      "metadata": {
        "colab": {
          "base_uri": "https://localhost:8080/"
        },
        "id": "O4nzElkVMcF9",
        "outputId": "331fa3b2-c42a-4ad4-a65e-3f98c8a6d2ef"
      },
      "execution_count": 2,
      "outputs": [
        {
          "output_type": "stream",
          "name": "stdout",
          "text": [
            "Semillas: 2121 , 2392\n",
            "-------------------------\n",
            "Número aleatorio 1 :\n",
            "734\n",
            "---\n",
            "Número aleatorio 2 :\n",
            "7557\n",
            "---\n",
            "Número aleatorio 3 :\n",
            "763\n",
            "---\n",
            "Número aleatorio 4 :\n",
            "8250\n",
            "---\n",
            "Número aleatorio 5 :\n",
            "7340\n",
            "---\n",
            "Número aleatorio 6 :\n",
            "5572\n",
            "---\n",
            "Número aleatorio 7 :\n",
            "3282\n",
            "---\n",
            "Número aleatorio 8 :\n",
            "8505\n",
            "---\n",
            "Número aleatorio 9 :\n",
            "3439\n",
            "---\n",
            "Número aleatorio 10 :\n",
            "2260\n",
            "---\n"
          ]
        }
      ]
    }
  ]
}