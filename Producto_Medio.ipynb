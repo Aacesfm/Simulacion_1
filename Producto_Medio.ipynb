{
  "nbformat": 4,
  "nbformat_minor": 0,
  "metadata": {
    "colab": {
      "provenance": []
    },
    "kernelspec": {
      "name": "python3",
      "display_name": "Python 3"
    },
    "language_info": {
      "name": "python"
    }
  },
  "cells": [
    {
      "cell_type": "markdown",
      "source": [
        "# Método Producto Medio"
      ],
      "metadata": {
        "id": "AzpUXFy5MM_D"
      }
    },
    {
      "cell_type": "code",
      "execution_count": null,
      "metadata": {
        "id": "bcUwLSfOLGQ4"
      },
      "outputs": [],
      "source": [
        "def producto_medio(semilla1, semilla2):\n",
        "  s_2 = semilla1*semilla2\n",
        "  s_aux = str(s_2)\n",
        "  if len(s_aux) == 7:\n",
        "      s_aux = '0'+s_aux\n",
        "  lista = []\n",
        "\n",
        "  for i in s_aux:\n",
        "    lista.append(i)\n",
        "\n",
        "  lista_new = lista[2:6]\n",
        "\n",
        "  numero = int(\"\".join(map(str,lista_new)))\n",
        "  print(numero)\n",
        "\n",
        "  return numero"
      ]
    },
    {
      "cell_type": "code",
      "source": [
        "sem_1 = 2121\n",
        "sem_2 = 2392\n",
        "\n",
        "print(\"Semillas:\", sem_1,\",\", sem_2)\n",
        "print(\"-------------------------\")\n",
        "for i in range(10):\n",
        "  print(\"Número aleatorio\",i+1,\":\")\n",
        "  sem_1 = producto_medio(sem_1, sem_2)\n",
        "  print(\"---\")"
      ],
      "metadata": {
        "id": "O4nzElkVMcF9"
      },
      "execution_count": null,
      "outputs": []
    }
  ]
}