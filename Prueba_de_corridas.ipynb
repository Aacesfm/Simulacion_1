{
  "nbformat": 4,
  "nbformat_minor": 0,
  "metadata": {
    "colab": {
      "provenance": [],
      "authorship_tag": "ABX9TyMxG8ICsoW3BeYH/JMyHy0l"
    },
    "kernelspec": {
      "name": "python3",
      "display_name": "Python 3"
    },
    "language_info": {
      "name": "python"
    }
  },
  "cells": [
    {
      "cell_type": "markdown",
      "source": [
        "#Prueba de Corridas"
      ],
      "metadata": {
        "id": "aPqVhcL37uac"
      }
    },
    {
      "cell_type": "code",
      "source": [
        "import numpy as np\n",
        "import pandas as pd\n",
        "\n",
        "corridas = []\n",
        "datos = pd.read_csv('datos_ejercicio2_1.csv', delimiter=';')\n",
        "\n",
        "for i in range(len(datos)):\n",
        "  if i == 0:\n",
        "    continue\n",
        "  elif datos['valores'][i] <= datos['valores'][i-1]:\n",
        "    corridas.append(0)\n",
        "  elif (datos['valores'][i] > datos['valores'][i-1]):\n",
        "    corridas.append(1)\n",
        "\n",
        "\n",
        "print(datos.head())\n",
        "print(\"*----------------------------------------------------------------------------*\")\n",
        "print(\"Calificacion mayor y menor\")\n",
        "print(corridas)\n"
      ],
      "metadata": {
        "colab": {
          "base_uri": "https://localhost:8080/"
        },
        "id": "EG-qJ4KK7e4W",
        "outputId": "68f1a637-37c3-495b-d080-9491d0d3f514"
      },
      "execution_count": 30,
      "outputs": [
        {
          "output_type": "stream",
          "name": "stdout",
          "text": [
            "   valores\n",
            "0    0.048\n",
            "1    0.926\n",
            "2    0.368\n",
            "3    0.787\n",
            "4    0.298\n",
            "*----------------------------------------------------------------------------*\n",
            "Calificacion mayor y menor\n",
            "[1, 0, 1, 0, 1, 0, 1, 1, 0, 1, 1, 0, 0, 1, 1, 1, 1, 1, 0, 1, 0, 1, 1, 0]\n"
          ]
        }
      ]
    },
    {
      "cell_type": "code",
      "execution_count": 26,
      "metadata": {
        "colab": {
          "base_uri": "https://localhost:8080/"
        },
        "id": "qDwMlEEGzoox",
        "outputId": "1ed9dcb0-5f07-4c1b-dd31-7e9f25efd8d5"
      },
      "outputs": [
        {
          "output_type": "stream",
          "name": "stdout",
          "text": [
            "+-------------------------------Longitud de las corridas--------------------------------+\n",
            "Número de corridas 25\n",
            "[1, 1, 1, 1, 1, 1, 2, 1, 2, 2, 5, 1, 1, 1, 2, 1]\n",
            "*----------------------------------------------------------------------------------------*\n",
            "Media:  16.333333333333332  Varianza:  3.011111111111111  Desviacion:  1.735255344642716\n",
            "Z_0:  0.19209468759882398  Z_(alpha/2): 1.959963984540054\n",
            "*----------------------------------------------------------------------------------------*\n",
            "CONCLUSION\n",
            "No se puede rechazar que los números son independientes:  0.19209468759882398 <= 1.959963984540054\n"
          ]
        }
      ],
      "source": [
        "from scipy.stats import norm\n",
        "\n",
        "#Lista de corridas\n",
        "\n",
        "a = 0\n",
        "b = 0\n",
        "\n",
        "longitud_corridas = []\n",
        "\n",
        "for i in range(len(corridas)):\n",
        "  if i == 0:\n",
        "    if corridas[i] == 0:\n",
        "      a = a + 1\n",
        "    if corridas[i] == 1:\n",
        "      b = b + 1\n",
        "  else:\n",
        "    if corridas[i] == corridas[i-1]:\n",
        "      if corridas[i] == 0:\n",
        "        a = a + 1\n",
        "      elif corridas[i] == 1:\n",
        "        b = b + 1\n",
        "    elif corridas[i] != corridas[i-1]:\n",
        "      if corridas[i] == 0:\n",
        "        longitud_corridas.append(b)\n",
        "        b = 0\n",
        "        a = a + 1\n",
        "      elif corridas[i] == 1:\n",
        "        longitud_corridas.append(a)\n",
        "        a = 0\n",
        "        b = b + 1\n",
        "  if i == len(corridas)-1:\n",
        "    if corridas[i] == 0:\n",
        "      longitud_corridas.append(a)\n",
        "    if corridas[i] == 1:\n",
        "      longitud_corridas.append(b)\n",
        "\n",
        "\n",
        "print(\"+-------------------------------Longitud de las corridas--------------------------------+\")\n",
        "print(\"Número de corridas\", len(datos))\n",
        "print(longitud_corridas)\n",
        "\n",
        "media = (2*len(datos)-1)/3\n",
        "varianza = (12*len(datos)-29)/90\n",
        "\n",
        "valor_critico = np.abs((len(longitud_corridas)-media)/np.sqrt(varianza))\n",
        "\n",
        "# Nivel de significancia\n",
        "alfa = 0.05\n",
        "\n",
        "# Calcular el valor crítico de Z\n",
        "z_critico = norm.ppf(1 - alfa/2)\n",
        "print(\"*----------------------------------------------------------------------------------------*\")\n",
        "print(\"Media: \",media,\" Varianza: \", varianza, \" Desviacion: \", np.sqrt(varianza))\n",
        "print(\"Z_0: \", valor_critico, \" Z_(alpha/2):\", z_critico)\n",
        "print(\"*----------------------------------------------------------------------------------------*\")\n",
        "print(\"CONCLUSION\")\n",
        "if valor_critico > z_critico:\n",
        "  print(\"Los numeros no son inpendientes entre si: \", valor_critico, \">\", z_critico)\n",
        "elif valor_critico <= z_critico:\n",
        "  print(\"No se puede rechazar que los números son independientes: \" , valor_critico, \"<=\", z_critico)\n",
        "\n",
        "\n",
        "\n"
      ]
    }
  ]
}