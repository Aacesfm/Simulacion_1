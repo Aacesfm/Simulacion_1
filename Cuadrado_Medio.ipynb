{
  "nbformat": 4,
  "nbformat_minor": 0,
  "metadata": {
    "colab": {
      "provenance": []
    },
    "kernelspec": {
      "name": "python3",
      "display_name": "Python 3"
    },
    "language_info": {
      "name": "python"
    }
  },
  "cells": [
    {
      "cell_type": "markdown",
      "source": [
        "# Método del Cuadrado Medio"
      ],
      "metadata": {
        "id": "1fRz9aFBIxn0"
      }
    },
    {
      "cell_type": "code",
      "source": [
        "def cuadrado_medio(semilla):\n",
        "  s_2 = semilla**2\n",
        "  s_aux = str(s_2)\n",
        "  if len(s_aux) == 7:\n",
        "      s_aux = '0'+s_aux\n",
        "  lista = []\n",
        "\n",
        "  for i in s_aux:\n",
        "    lista.append(i)\n",
        "\n",
        "  lista_new = lista[2:6]\n",
        "\n",
        "  numero = int(\"\".join(map(str,lista_new)))\n",
        "  print(numero)\n",
        "\n",
        "  return numero"
      ],
      "metadata": {
        "id": "6tKMDJbRI3AN"
      },
      "execution_count": 2,
      "outputs": []
    },
    {
      "cell_type": "code",
      "source": [
        "semilla = 2121\n",
        "print(\"Semilla:\", semilla)\n",
        "print(\"---------------------\")\n",
        "for i in range(10):\n",
        "  print(\"Número aleatorio\",i+1,\":\")\n",
        "  semilla = cuadrado_medio(semilla)\n",
        "  print(\"---\")"
      ],
      "metadata": {
        "colab": {
          "base_uri": "https://localhost:8080/"
        },
        "id": "cvga-GN9OjHW",
        "outputId": "88bdc516-b4d4-457b-e1b8-429321d58cc4"
      },
      "execution_count": 10,
      "outputs": [
        {
          "output_type": "stream",
          "name": "stdout",
          "text": [
            "Semilla: 2121\n",
            "---------------------\n",
            "Número aleatorio 1 :\n",
            "4986\n",
            "---\n",
            "Número aleatorio 2 :\n",
            "8601\n",
            "---\n",
            "Número aleatorio 3 :\n",
            "9772\n",
            "---\n",
            "Número aleatorio 4 :\n",
            "4919\n",
            "---\n",
            "Número aleatorio 5 :\n",
            "1965\n",
            "---\n",
            "Número aleatorio 6 :\n",
            "8612\n",
            "---\n",
            "Número aleatorio 7 :\n",
            "1665\n",
            "---\n",
            "Número aleatorio 8 :\n",
            "7722\n",
            "---\n",
            "Número aleatorio 9 :\n",
            "6292\n",
            "---\n",
            "Número aleatorio 10 :\n",
            "5892\n",
            "---\n"
          ]
        }
      ]
    }
  ]
}