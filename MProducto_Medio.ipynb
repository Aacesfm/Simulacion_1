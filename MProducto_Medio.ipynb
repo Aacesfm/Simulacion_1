{
  "nbformat": 4,
  "nbformat_minor": 0,
  "metadata": {
    "colab": {
      "provenance": [],
      "authorship_tag": "ABX9TyNpkUeSU8X1SmfIqT5wOVJX"
    },
    "kernelspec": {
      "name": "python3",
      "display_name": "Python 3"
    },
    "language_info": {
      "name": "python"
    }
  },
  "cells": [
    {
      "cell_type": "markdown",
      "source": [
        "# Método Producto Medio"
      ],
      "metadata": {
        "id": "AzpUXFy5MM_D"
      }
    },
    {
      "cell_type": "code",
      "execution_count": 4,
      "metadata": {
        "id": "bcUwLSfOLGQ4"
      },
      "outputs": [],
      "source": [
        "def producto_medio(semilla1, semilla2):\n",
        "  s_2 = semilla1*semilla2\n",
        "  s_aux = str(s_2)\n",
        "  if len(s_aux) == 7:\n",
        "      s_aux = '0'+s_aux\n",
        "  lista = []\n",
        "\n",
        "  for i in s_aux:\n",
        "    lista.append(i)\n",
        "\n",
        "  lista_new = lista[2:6]\n",
        "\n",
        "  numero = int(\"\".join(map(str,lista_new)))\n",
        "\n",
        "  return numero"
      ]
    },
    {
      "cell_type": "code",
      "source": [
        "import tabulate\n",
        "\n",
        "sem_1 = 2121\n",
        "sem_2 = 2392\n",
        "datos = []\n",
        "for i in range(20):\n",
        "  semilla_generada = producto_medio(sem_1, sem_2)\n",
        "  datos.append([\n",
        "      i,\n",
        "      sem_1,\n",
        "      sem_2,\n",
        "      semilla_generada\n",
        "  ])\n",
        "  sem_2 = sem_1 #No se si las dos semillas pueden cambiar o solo una\n",
        "  sem_1 = semilla_generada\n",
        "\n",
        "\n",
        "encabezados = [\"Iteración\", \"Semilla 1\", \"Semilla 2\", \"Nueva Semilla\"]\n",
        "\n",
        "print(tabulate.tabulate(datos, headers=encabezados, tablefmt=\"psql\",numalign=\"center\"))"
      ],
      "metadata": {
        "colab": {
          "base_uri": "https://localhost:8080/"
        },
        "id": "O4nzElkVMcF9",
        "outputId": "f7f546db-4072-4673-a690-95ae4ef9b0b9"
      },
      "execution_count": 7,
      "outputs": [
        {
          "output_type": "stream",
          "name": "stdout",
          "text": [
            "+-------------+-------------+-------------+-----------------+\n",
            "|  Iteración  |  Semilla 1  |  Semilla 2  |  Nueva Semilla  |\n",
            "|-------------+-------------+-------------+-----------------|\n",
            "|      0      |    2121     |    2392     |       734       |\n",
            "|      1      |     734     |    2121     |      5568       |\n",
            "|      2      |    5568     |     734     |       869       |\n",
            "|      3      |     869     |    5568     |      8385       |\n",
            "|      4      |    8385     |     869     |      2865       |\n",
            "|      5      |    2865     |    8385     |       230       |\n",
            "|      6      |     230     |    2865     |      8950       |\n",
            "|      7      |    8950     |     230     |       585       |\n",
            "|      8      |     585     |    8950     |      2357       |\n",
            "|      9      |    2357     |     585     |      3788       |\n",
            "|     10      |    3788     |    2357     |      9283       |\n",
            "|     11      |    9283     |    3788     |      1640       |\n",
            "|     12      |    1640     |    9283     |      2241       |\n",
            "|     13      |    2241     |    1640     |      6752       |\n",
            "|     14      |    6752     |    2241     |      1312       |\n",
            "|     15      |    1312     |    6752     |      8586       |\n",
            "|     16      |    8586     |    1312     |      2648       |\n",
            "|     17      |    2648     |    8586     |      7357       |\n",
            "|     18      |    7357     |    2648     |      4813       |\n",
            "|     19      |    4813     |    7357     |      4092       |\n",
            "+-------------+-------------+-------------+-----------------+\n"
          ]
        }
      ]
    }
  ]
}