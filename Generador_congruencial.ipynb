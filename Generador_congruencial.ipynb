{
  "nbformat": 4,
  "nbformat_minor": 0,
  "metadata": {
    "colab": {
      "provenance": [],
      "authorship_tag": "ABX9TyNqRD/lRrPcb4wSuDMFAvgC"
    },
    "kernelspec": {
      "name": "python3",
      "display_name": "Python 3"
    },
    "language_info": {
      "name": "python"
    }
  },
  "cells": [
    {
      "cell_type": "markdown",
      "source": [
        "#Generador Congruencial\n",
        "\n",
        "$$x_{j+1} = (ax_j+b)\\,\\, \\text{mod}\\, \\, m$$"
      ],
      "metadata": {
        "id": "Vft4QOF1LvIA"
      }
    },
    {
      "cell_type": "code",
      "execution_count": 15,
      "metadata": {
        "id": "9phjMQBRLrQl"
      },
      "outputs": [],
      "source": [
        "def gcongruencial(x0,a,b,m):\n",
        "  x1 = (a*x0+b) % m\n",
        "  return(x1)"
      ]
    },
    {
      "cell_type": "code",
      "source": [
        "import tabulate\n",
        "\n",
        "x0 = 0\n",
        "a = 5\n",
        "b = 3\n",
        "m = 16\n",
        "\n",
        "datos = []\n",
        "for i in range (16):\n",
        "  nuevo = gcongruencial(x0,a,b,m)\n",
        "  datos.append([\n",
        "      i,\n",
        "      x0,\n",
        "      nuevo\n",
        "  ])\n",
        "  x0 = nuevo\n",
        "\n",
        "encabezados = [\"Iteración\", \"X\", \"X nueva\"]\n",
        "\n",
        "print(tabulate.tabulate(datos, headers=encabezados, tablefmt=\"psql\",numalign=\"center\"))\n",
        "\n"
      ],
      "metadata": {
        "colab": {
          "base_uri": "https://localhost:8080/"
        },
        "id": "4kYSGYAVOuJx",
        "outputId": "c1916154-0d48-47e9-85a3-172de6b4900a"
      },
      "execution_count": 17,
      "outputs": [
        {
          "output_type": "stream",
          "name": "stdout",
          "text": [
            "+-------------+-----+-----------+\n",
            "|  Iteración  |  X  |  X nueva  |\n",
            "|-------------+-----+-----------|\n",
            "|      0      |  0  |     3     |\n",
            "|      1      |  3  |     2     |\n",
            "|      2      |  2  |    13     |\n",
            "|      3      | 13  |     4     |\n",
            "|      4      |  4  |     7     |\n",
            "|      5      |  7  |     6     |\n",
            "|      6      |  6  |     1     |\n",
            "|      7      |  1  |     8     |\n",
            "|      8      |  8  |    11     |\n",
            "|      9      | 11  |    10     |\n",
            "|     10      | 10  |     5     |\n",
            "|     11      |  5  |    12     |\n",
            "|     12      | 12  |    15     |\n",
            "|     13      | 15  |    14     |\n",
            "|     14      | 14  |     9     |\n",
            "|     15      |  9  |     0     |\n",
            "+-------------+-----+-----------+\n"
          ]
        }
      ]
    }
  ]
}